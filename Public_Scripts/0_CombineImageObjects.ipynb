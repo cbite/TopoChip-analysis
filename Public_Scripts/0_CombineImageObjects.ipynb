{
 "cells": [
  {
   "cell_type": "markdown",
   "metadata": {},
   "source": [
    "# Combine the image objects\n",
    "This jupyter notebook combines the image objects for each chip into one large file.\n",
    "Each image object (for each TopoChip) should be placed in the folder '/ImageObjects/'"
   ]
  },
  {
   "cell_type": "code",
   "execution_count": 27,
   "metadata": {},
   "outputs": [],
   "source": [
    "import os\n",
    "import pandas as pd\n",
    "from checkNumberChip import checkNumberChip"
   ]
  },
  {
   "cell_type": "code",
   "execution_count": 28,
   "metadata": {},
   "outputs": [],
   "source": [
    "# Collect the image objects from the TopoChip screen\n",
    "os.chdir('Z:/1 BIS/Shared folders/Nikita/Marta/SCREEN/analysis/chip10/SegmentatedImages/PREQCSTEP_FOR_THE_FINAL_ANALYSIS')"
   ]
  },
  {
   "cell_type": "code",
   "execution_count": 29,
   "metadata": {},
   "outputs": [],
   "source": [
    "#working_dir=os.getcwd()+'/ImageObjects/'\n",
    "#os.chdir(working_dir)\n",
    "allFiles=os.listdir()\n",
    "counter=0"
   ]
  },
  {
   "cell_type": "code",
   "execution_count": 30,
   "metadata": {},
   "outputs": [],
   "source": [
    "# Check if the filename and chipnumber are correct"
   ]
  },
  {
   "cell_type": "code",
   "execution_count": 31,
   "metadata": {},
   "outputs": [
    {
     "name": "stdout",
     "output_type": "stream",
     "text": [
      "chip01_My\n",
      "['1']\n",
      "Metadata_Plate\n",
      "chip01_MyExpt_Image.csv is concatenated\n",
      "chip02_My\n",
      "['2']\n",
      "Metadata_Plate\n",
      "chip02_MyExpt_Image.csv is concatenated\n",
      "chip03_My\n",
      "['3']\n",
      "Metadata_Plate\n",
      "chip03_MyExpt_Image.csv is concatenated\n",
      "chip04_My\n",
      "['4']\n",
      "Metadata_Plate\n",
      "chip04_MyExpt_Image.csv is concatenated\n",
      "chip05_My\n",
      "['5']\n",
      "Metadata_Plate\n",
      "chip05_MyExpt_Image.csv is concatenated\n",
      "chip06_My\n",
      "['6']\n",
      "Metadata_Plate\n",
      "chip06_MyExpt_Image.csv is concatenated\n",
      "chip07_My\n",
      "['7']\n",
      "Metadata_Plate\n",
      "chip07_MyExpt_Image.csv is concatenated\n",
      "chip08_My\n",
      "['8']\n",
      "Metadata_Plate\n",
      "chip08_MyExpt_Image.csv is concatenated\n",
      "chip09_My\n",
      "['9']\n",
      "Metadata_Plate\n",
      "chip09_MyExpt_Image.csv is concatenated\n"
     ]
    }
   ],
   "source": [
    "for x in allFiles:\n",
    "#    # first check if the chip number in the file number is equal to the number in the dataframe\n",
    "     file_tmp = pd.read_csv(x, sep=\",\",low_memory=False)\n",
    "     chip_number_file_name=x[0:9]\n",
    "     print(chip_number_file_name)\n",
    "     chipCorrect=checkNumberChip(chip_number_file_name,file_tmp,'Metadata_Plate')\n",
    "     if counter==0:\n",
    "         imageObject=file_tmp\n",
    "         counter=counter+1\n",
    "     else:\n",
    "         imageObject=pd.concat([imageObject, file_tmp])\n",
    "     print(x+' is concatenated')"
   ]
  },
  {
   "cell_type": "code",
   "execution_count": 32,
   "metadata": {},
   "outputs": [],
   "source": [
    "# Check if concatenation was performed correct"
   ]
  },
  {
   "cell_type": "code",
   "execution_count": 33,
   "metadata": {},
   "outputs": [
    {
     "name": "stdout",
     "output_type": "stream",
     "text": [
      "Your data contains %d chips 9.0\n"
     ]
    }
   ],
   "source": [
    "resultsModules= imageObject.shape[0] % 4356\n",
    "if resultsModules==0:\n",
    "    # check how many chips are present\n",
    "    number_of_chips_object= imageObject.shape[0] / 4356\n",
    "    print(\"Your data contains %d chips\",number_of_chips_object)\n",
    "if resultsModules!=0:\n",
    "    print(\"The number of rows is not n-times 4356 rows, please check your data\")\n"
   ]
  },
  {
   "cell_type": "code",
   "execution_count": 34,
   "metadata": {},
   "outputs": [],
   "source": [
    "# Save the Total image object if concatenation step was succesful"
   ]
  },
  {
   "cell_type": "code",
   "execution_count": 35,
   "metadata": {},
   "outputs": [],
   "source": [
    "if resultsModules==0:\n",
    "    imageObject.to_csv('TotalImageObject_txt',sep=\"\\t\",index=False)"
   ]
  },
  {
   "cell_type": "code",
   "execution_count": null,
   "metadata": {},
   "outputs": [],
   "source": []
  }
 ],
 "metadata": {
  "kernelspec": {
   "display_name": "Python 3 (ipykernel)",
   "language": "python",
   "name": "python3"
  },
  "language_info": {
   "codemirror_mode": {
    "name": "ipython",
    "version": 3
   },
   "file_extension": ".py",
   "mimetype": "text/x-python",
   "name": "python",
   "nbconvert_exporter": "python",
   "pygments_lexer": "ipython3",
   "version": "3.9.12"
  }
 },
 "nbformat": 4,
 "nbformat_minor": 4
}
